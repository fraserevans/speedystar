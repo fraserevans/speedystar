{
 "cells": [
  {
   "cell_type": "markdown",
   "metadata": {},
   "source": [
    "### Ejecting from a moving object\n",
    "\n",
    "By default, `speedystar` ejects stars from the Galactic Centre. The ejection methods in `speedystar.eject` can take a `galpy` orbit object as an argument to eject stars from a moving object (e.g. the LMC, M31, globular clusters), though the moving object must be set up in a particular way to ensure stars are ejected from the correct location at the correct time. Here we will use the LMC as an example."
   ]
  },
  {
   "cell_type": "code",
   "execution_count": null,
   "metadata": {},
   "outputs": [],
   "source": [
    "import numpy as np\n",
    "from speedystar import starsample\n",
    "from speedystar.eject import Hills, BMBH\n",
    "import astropy.units as u\n",
    "from galpy.potential.mwpotentials import MWPotential2014\n",
    "from galpy.potential import MovingObjectPotential, HernquistPotential\n",
    "from galpy import potential\n",
    "from galpy.orbit import Orbit\n",
    "from astropy.table import Table"
   ]
  },
  {
   "cell_type": "code",
   "execution_count": 2,
   "metadata": {},
   "outputs": [
    {
     "name": "stderr",
     "output_type": "stream",
     "text": [
      "Evolving HVSs: 100%|██████████| 871/871 [00:02<00:00, 394.74it/s]\n"
     ]
    }
   ],
   "source": [
    "# Assume a Galactic potential\n",
    "default_potential = MWPotential2014\n",
    "\n",
    "#Ensure the potential has physical units so that the final positions and velocities have physical units too\n",
    "potential.turn_physical_on(default_potential)\n",
    "\n",
    "#Initialize LMC orbit object using contemporary estimates of its centre position, distance and velocity\n",
    "#Note: If the optional arguments ro, vo, zo, solarmotion are changed here, make sure they are changed in the mysample.propagate() call below as well, and vice versa. May result in inconsistent behaviour otherwise. \n",
    "LMCorbit = Orbit(vxvv = [78.76*u.deg, -69.19*u.deg, 49.59*u.kpc, 1.91*u.mas/u.yr, 0.229*u.mas/u.yr, 262.2*u.km/u.s], radec=True)\n",
    "\n",
    "#Note: A realistic treatment of the LMC orbit should include a ChandrasekharDynamicalFrictionForce() component of the potential as well to account for dynamical friction. Not included here.\n",
    "\n",
    "#Set integration times for the object.\n",
    "#Note the setup. The first integration timestep MUST be zero and the timesteps must be decreasing.\n",
    "#The reason the orbit must be integrated like this instead of, say, flipping the orbit with galpy.orbit.Orbit.flip() and integrating towards positive times is that speedystar.eject() and speedystar.propagate() use the object's galpy.orbit.Orbit.time attribute to determine where to eject stars from and through what potential they move through, and both expect this attribute to be strictly non-positive and to be located at its initialized position and velocity at t=0.\n",
    "ts = np.linspace(0, -2000, 2000)*u.Myr\n",
    "LMCorbit.integrate(ts,default_potential)\n",
    "\n",
    "#Uncomment these to save the moving object orbit to file. Useful for debugging and sanity checking.\n",
    "\n",
    "#ra, dec, dist = LMCorbit.ra(ts,quantity=True), LMCorbit.dec(ts,quantity=True), LMCorbit.dist(ts, quantity=True)\n",
    "#pmra, pmdec, vlos = LMCorbit.pmra(ts,quantity=True), LMCorbit.pmdec(ts,quantity=True), LMCorbit.vlos(ts, quantity=True)\n",
    "#x, y, z = LMCorbit.x(ts,quantity=True), LMCorbit.y(ts,quantity=True), LMCorbit.z(ts, quantity=True)\n",
    "#vx, vy, vz = LMCorbit.vx(ts,quantity=True), LMCorbit.vy(ts,quantity=True), #LMCorbit.vz(ts, quantity=True)\n",
    "\n",
    "#namelist =['t', 'ra', 'dec', 'dist', 'pmra', 'pmdec', 'vlos', 'x', 'y', 'z', 'vx', 'vy', 'vz']\n",
    "#datalist = [ts, ra, dec, dist, pmra, pmdec, vlos, x, y, z, vx, vy, vz]\n",
    "#data_table = Table(data=datalist, names=namelist)\n",
    "#data_table.write('./LMC_orbit.fits',overwrite=True)\n",
    "\n",
    "ejectionmodel = Hills(rate=1e-4/u.yr, LaunchLoc=LMCorbit)\n",
    "\n",
    "# Eject the sample\n",
    "mysample = starsample(ejectionmodel, name='My catalogue')\n",
    "\n",
    "# Save ejection sample\n",
    "mysample.save('./cat_ejection_moving.fits')\n",
    "\n",
    "#Note that the phase space coordinates of the stars in the sample are in the Galactocentric frame. To convert them to the LMC frame, we need to calculate the velocity of the LMC at the time of ejection of each star and subtract it from the star's velocity in the Galactocentric frame.\n",
    "\n",
    "#Velocity of the LMC when each star was launched\n",
    "LMCvx0, LMCvy0, LMCvz0 = LMCorbit.vx(-mysample.tflight,quantity=True), LMCorbit.vy(-mysample.tflight,quantity=True), LMCorbit.vz(-mysample.tflight, quantity=True)\n",
    "\n",
    "#Components of the star's initial velocity in the Galactocentric frame\n",
    "mysample.v0x = np.cos(mysample.phiv0)*np.sin(mysample.thetav0)*mysample.v0\n",
    "mysample.v0y = np.sin(mysample.phiv0)*np.sin(mysample.thetav0)*mysample.v0\n",
    "mysample.v0z = np.cos(mysample.thetav0)*mysample.v0\n",
    "\n",
    "#Initial velocity in the LMC frame\n",
    "mysample.v0_LMC = np.sqrt ( (mysample.v0x - LMCvx0)**2 + (mysample.v0y - LMCvy0)**2 + (mysample.v0z - LMCvz0)**2)\n"
   ]
  },
  {
   "cell_type": "code",
   "execution_count": 3,
   "metadata": {},
   "outputs": [
    {
     "name": "stderr",
     "output_type": "stream",
     "text": [
      "Propagating...:   0%|          | 0/577 [00:00<?, ?it/s]"
     ]
    },
    {
     "name": "stderr",
     "output_type": "stream",
     "text": [
      "Propagating...: 100%|██████████| 577/577 [00:25<00:00, 22.56it/s]\n"
     ]
    },
    {
     "name": "stdout",
     "output_type": "stream",
     "text": [
      "galpyWarning: You specified integration times as a Quantity, but are evaluating at times not specified as a Quantity; assuming that time given is in natural (internal) units (multiply time by unit to get output at physical time)\n"
     ]
    }
   ],
   "source": [
    "#Propagating the sample\n",
    "\n",
    "# Load ejection sample, if it doesn't already exist\n",
    "mysample = starsample('./cat_ejection_moving.fits')\n",
    "\n",
    "#Realistically, densities around a moving ejection location are likely high enough to have a non-negligible contribution to the Galactic potential. Including a MovingObjectPotential component in the total potential is recommended, but not necessary. Here we will model the LMC as a Hernquist potential.\n",
    "\n",
    "#LMC scale mass and size, as assumed in e.g. Erkal+2020 (MNRAS, 483, 2007)\n",
    "Mlmc = 1.5e11*u.Msun\n",
    "Rlmc = 17.14*u.kpc\n",
    "\n",
    "#Create moving LMC potential. Hernquist potential amplitude is twice the mass in galpy.\n",
    "LMCp = MovingObjectPotential(orbit=LMCorbit, pot=HernquistPotential(amp=2*Mlmc, a=Rlmc))\n",
    "\n",
    "#Add moving LMC potential to total Galactic potential.\n",
    "pottotal = [default_potential,LMCp]\n",
    "\n",
    "#Make sure the potential is physical, just in case\n",
    "potential.turn_physical_on(pottotal)\n",
    "\n",
    "#Propagate the sample through the Milky Way + LMC potential. Note that propagation through any potential which involves a moving object is significantly slower than through a static potential.\n",
    "#You may get a galpy warnings about integration time units. Ignore this.\n",
    "\n",
    "mysample.propagate(potential = pottotal)\n",
    "\n",
    "#Save propagated sample\n",
    "mysample.save('./cat_propagatedLMC.fits')"
   ]
  }
 ],
 "metadata": {
  "kernelspec": {
   "display_name": "Python 3",
   "language": "python",
   "name": "python3"
  },
  "language_info": {
   "codemirror_mode": {
    "name": "ipython",
    "version": 3
   },
   "file_extension": ".py",
   "mimetype": "text/x-python",
   "name": "python",
   "nbconvert_exporter": "python",
   "pygments_lexer": "ipython3",
   "version": "3.10.12"
  }
 },
 "nbformat": 4,
 "nbformat_minor": 2
}
