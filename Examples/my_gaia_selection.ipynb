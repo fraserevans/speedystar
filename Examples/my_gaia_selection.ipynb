{
 "cells": [
  {
   "cell_type": "markdown",
   "id": "8f324b8f",
   "metadata": {},
   "source": [
    "# Selecting Gaia-detectable stars\n",
    "\n",
    "This notebook is intended to walk you through selecting stars detectable in Gaia, which can either be quite straightforward and fast or sophisticated and computationally expensive depending on your use case. Let's start with loading in a file. Please note that some steps in this notebook require the Python packages scanninglaw and GaiaUnlimited, which are not available on Windows since they rely on the healpy package. They can be installed in Windows Subsystem for Linux (WSL), however."
   ]
  },
  {
   "cell_type": "code",
   "execution_count": null,
   "id": "9ec4fc52",
   "metadata": {},
   "outputs": [],
   "source": [
    "#Import what you need\n",
    "import numpy as np\n",
    "from speedystar import starsample\n",
    "from speedystar.eject import Hills\n",
    "from speedystar.utils.mwpotential import MWPotential\n",
    "from galpy.potential import MWPotential2014\n",
    "import astropy.units as u\n",
    "from galpy import potential\n",
    "import mwdust"
   ]
  },
  {
   "cell_type": "code",
   "execution_count": 9,
   "id": "71ee6609",
   "metadata": {},
   "outputs": [
    {
     "name": "stderr",
     "output_type": "stream",
     "text": [
      "Evolving HVSs: 100%|██████████| 17176/17176 [00:35<00:00, 477.12it/s]\n",
      "Propagating...: 100%|██████████| 11455/11455 [08:47<00:00, 21.73it/s]\n",
      "Calculating magnitudes: 100%|██████████| 6/6 [01:32<00:00, 15.44s/it]\n"
     ]
    }
   ],
   "source": [
    "#Create a fairly large mock HVS sample, because Gaia-detectable stars are rare especially in the radial velocity catalogue\n",
    "ejectionmodel = Hills(rate=2e-3/u.yr)\n",
    "\n",
    "# Eject a sample of stars from Sgr A*. \n",
    "mysample = starsample(ejectionmodel, name='My Hills catalogue')\n",
    "\n",
    "default_potential = MWPotential2014\n",
    "potential.turn_physical_on(default_potential)\n",
    "\n",
    "mysample.propagate(potential = default_potential)\n",
    "mysample.dust = mwdust.Combined15()\n",
    "mysample.photometry()\n",
    "\n",
    "mysample.save('./cat_photometry_forGaiastuff.fits')"
   ]
  },
  {
   "cell_type": "markdown",
   "id": "1eaa639a",
   "metadata": {},
   "source": [
    "## The simple case\n",
    "\n",
    "Reminder that Gaia-detectable stars can be selected using mysample.subsample(cut). By default, stars detectable in the radial velocity catalogue are selected with simple magnitude and temperature cuts:\n",
    " \n",
    " cut = 'Gaia_6D_DR2' -> Gaia_GRVS < 12 & T_eff < 6900 K\n",
    "\n",
    " cut = 'Gaia_6D_EDR3' -> Gaia_GRVS < 12 & T_eff < 6900 K\n",
    "\n",
    " cut = 'Gaia_6D_DR3' -> (Gaia_GRVS < 14 & T_eff < 6900 K) OR (Gaia_GRVS<12 & T_eff < 14500 K)\n",
    "\n",
    " cut = 'Gaia_6D_DR4' -> (Gaia_GRVS < 16.2 & T_eff < 6900 K) OR (Gaia_GRVS<14)\n",
    "\n",
    "T_eff, if not already an attribute of mysample, can be computed with mysample.evolve(), and Gaia_GRVS is computed with mysample.photometry()\n",
    "\n",
    "For the astrometric catalogue, the selection cuts are all the same:\n",
    "\n",
    "cut = 'Gaia_*' -> Gaia_G < 20.7\n",
    "\n",
    "where * is one of 'DR2', 'EDR3', 'DR3', 'DR4'. Gaia_G can be computed with mysample.photometry(). All of the 'Gaia_DR*' cuts will therefore yield samples of identical size, the only difference being the astrometric errors (see below for more on that.)"
   ]
  },
  {
   "cell_type": "code",
   "execution_count": null,
   "id": "a633f17a",
   "metadata": {},
   "outputs": [],
   "source": [
    "#Load a pre-existing sample with photometry. \n",
    "mysample = starsample('./cat_photometry_forGaiastuff.fits')\n",
    "\n",
    "print('Faintest star in sample is at G magnitude {:.1f}'.format(np.nanmax(mysample.Gaia_G)))\n",
    "print('Number of stars in sample: '+str(mysample.size))\n",
    "\n",
    "#Determine which stars would be in principle detectable in Gaia DR3\n",
    "mysample.subsample('Gaia_DR3')\n",
    "\n",
    "#Save the cut sample\n",
    "mysample.save('./cat_gaiaDR3.fits')\n",
    "\n",
    "print('Faintest star in Gaia DR3 is at G magnitude {:.1f}'.format(np.max(mysample.Gaia_G)))\n",
    "print('Number of stars in Gaia DR3: '+str(mysample.size))\n",
    "\n",
    "#Recall that mysample.subsample() is a destructive operation, so we need to reload the original sample\n",
    "mysample = starsample('./cat_photometry_forGaiastuff.fits')\n",
    "\n",
    "#Determine which stars would be in principle detectable in Gaia DR3 6D\n",
    "mysample.subsample('Gaia_6D_DR3')\n",
    "\n",
    "#Save the cut sample\n",
    "mysample.save('./cat_gaiaDR3_6D.fits')\n",
    "\n",
    "print('Faintest star in Gaia DR3 (6D) is at G_RVS magnitude {:.1f}'.format(np.max(mysample.Gaia_GRVS)))\n",
    "print('Number of stars in Gaia DR3 (6D): '+str(mysample.size))"
   ]
  },
  {
   "cell_type": "markdown",
   "id": "edce3b72",
   "metadata": {},
   "source": [
    "## Selection functions using GaiaUnlimited\n",
    "\n",
    "Depending on your use case, the selection functions above may not be sufficient. Many stars fainter than the quoted faint-end magnitude limit can appear in the catalogue, and the faint-end completeness limit can be brighter in areas of highly crowded and/or dust-extincted environments.\n",
    "\n",
    "[GaiaUnlimited](https://gaia-unlimited.org/) is a powerful Python package for creating and querying the selection function of the Gaia data releases and their subsamples. Please see the package documentation for more information on how it works. Speedystar allows integration with GaiaUnlimited, though it requires some disk space to download or create the selection functions and querying them is significantly slower than the simple magnitude cuts."
   ]
  },
  {
   "cell_type": "markdown",
   "id": "6b1d5a69",
   "metadata": {},
   "source": [
    "### Querying the pre-built radial velocity selection functions\n",
    "\n",
    "GaiaUnlimited provides prebuilt selection functions for the Gaia DR2 and DR3 subsets with measured radial velocities. When cut == 'Gaia_6D_DR2', 'Gaia_6D_EDR3' (because it shares a radial velocity selection function with DR2) or 'Gaia_6D_DR3', these selection functions will be queried in starsample.subsample() if the use_rvs_sf Boolean argument is True. In the following, we will select Gaia DR3 6D-detectable stars using the prebuilt selection function as an example.\n",
    "\n",
    "Calling the cuts like this with the prebuilt selection function assigns each star an attribute 'obsprob' which is the probability of being observed in the given data release. From there, there are then two options for selecting which stars would be included in the catalogue:\n",
    "\n",
    "1) By default, for each star a random number between 0 and 1 is then drawn and the star is included in the catalogue if the random number is less than obsprob.\n",
    "2) If an argument 'probcut' is supplied, which is a float between 0 and 1, all stars with a obsprob>=probcut are selected.\n",
    "\n",
    "Option 1 above is likely more realistic but has some randomness. Option 2 is more flexible and gives reproducible results."
   ]
  },
  {
   "cell_type": "code",
   "execution_count": null,
   "id": "b6a2e3ad",
   "metadata": {},
   "outputs": [],
   "source": [
    "#Downloading the radial velocity selection function requires ~0.5 GB of disk space. By default these will be saved in the current directory. This can be changed by setting the environment variable GAIAUNLIMITED_DATADIR environment variable to the desired directory.\n",
    "\n",
    "#This can otherwise be done directly in speedystar by uncommenting the following:\n",
    "#mysample.config_rvssf('/path/to/directory/')\n",
    "\n",
    "#Calling mysample.subsample() with the argument use_rvs_sf=True where cut='Gaia_6D_DR2' or 'Gaia_6D_EDR3' or 'Gaia_6D_DR3' will apply the radial velocity selection function to the sample.\n",
    "\n",
    "mysample = starsample('./cat_photometry_forGaiastuff.fits')\n",
    "mysample.subsample('Gaia_6D_DR3', use_rvs_sf=True)\n",
    "\n",
    "#Save the cut sample\n",
    "mysample.save('./cat_gaiaDR3_6D_rvssf.fits')\n",
    "\n",
    "print('Faintest star in Gaia DR3 (6D) with radial velocity selection function is at G_RVS magnitude {:.1f}'.format(np.max(mysample.Gaia_GRVS)))\n",
    "print('Number of stars in Gaia 6DR3 (6D) with radial velocity selection function: '+str(mysample.size))\n",
    "\n",
    "#Do the same thing again but demonstrate the functionality with probcut\n",
    "mysample = starsample('./cat_photometry_forGaiastuff.fits')\n",
    "mysample.subsample('Gaia_6D_DR3', use_rvs_sf=True, probcut=0.8)\n",
    "\n",
    "#Save the cut sample\n",
    "mysample.save('./cat_gaiaDR3_6D_rvssf2.fits')\n",
    "print('Faintest star in Gaia DR3 (6D) with radial velocity selection function is at G_RVS magnitude {:.1f}'.format(np.max(mysample.Gaia_GRVS)))\n",
    "print('Number of stars in Gaia 6DR3 (6D) with radial velocity selection function: '+str(mysample.size))"
   ]
  },
  {
   "cell_type": "markdown",
   "id": "59eb8adc",
   "metadata": {},
   "source": [
    "### Creating your own selection functions with GaiaUnlimited\n",
    "\n",
    "The radial velocity selection functions are the only ones which come pre-built in GaiaUnlimited at this time. You can construct your own selection function, however, for any criteria that you want. Here we will construct a selection function for all stars in Gaia DR3 with measured five-parameter astrometry"
   ]
  },
  {
   "cell_type": "code",
   "execution_count": null,
   "id": "9c0a972e",
   "metadata": {},
   "outputs": [],
   "source": [
    "from gaiaunlimited.utils import get_healpix_centers\n",
    "from gaiaunlimited.selectionfunctions.subsample import SubsampleSelectionFunction\n",
    "\n",
    "#Define the dependencies and resolutions of the selection function\n",
    "#'healpix' is the healpy level at which the selection function is defined. The higher the level, the higher the resolution. The risk with too high a resolution is that not enough stars will populate each healpix/colour/magnitude bin, which can lead to noisy or undefined selection functions.\n",
    "#'phot_g_mean_mag' is the range of G magnitudes covered by the selection function. The range is defined as [min, max, step].\n",
    "#'g_rp' is the range of G-RP colours covered by the selection function. \n",
    "inDict = {'healpix': 4, 'phot_g_mean_mag': [12 ,20 ,0.25] , 'g_rp': [ 0.2 ,1.8,0.2]}\n",
    "\n",
    "#Create the selection function\n",
    "#subsample_query is the query used to select the stars from the Gaia DR3 database, i.e. the ADQL query you would use when querying the Gaia archive yourself. In this case we are selecting stars with parallaxes, proper motions, and radial velocities. This may take a long time to run and will be saved as \"file_name\".csv in the same GAIAUNLIMITED_DATADIR directory as the radial velocity selection functions (see above).\n",
    "#If the file_name already exists and has an inDict matching the one above, the selection function will be loaded. This will not take long.\n",
    "\n",
    "#dr3AstrometrySF = SubsampleSelectionFunction(subsample_query = \"parallax is not null and pmra is not null and pmdec is not null\",file_name = \"par_pm\", hplevel_and_binning = inDict)\n",
    "\n",
    "dr3AstrometrySF = SubsampleSelectionFunction(subsample_query = \"parallax is not null and pmra is not null and pmdec is not null\",file_name = \"par_pm_hp4_g12_20_0.25_grp_0.2_1.8_0.2\", hplevel_and_binning = inDict)\n",
    "\n",
    "mysample = starsample('./cat_photometry.fits')\n",
    "mysample.subsample(dr3AstrometrySF, probcut=0.8)\n",
    "\n",
    "mysample.save('./cat_gaiaDR3_astsf.fits')\n",
    "\n",
    "print('Faintest star in Gaia DR3 with custom selection function is at G magnitude {:.1f}'.format(np.max(mysample.Gaia_G)))\n",
    "print('Number of stars in Gaia with custom selection function: '+str(mysample.size))\n",
    "\n",
    "#The following code can be useful for debugging, it will calculate which sky/magnitude/colour bin each star falls into and the number of stars in the bin and the number of stars in the bin that satisfy the selection function.\n"
   ]
  },
  {
   "cell_type": "markdown",
   "id": "3d730c83",
   "metadata": {},
   "source": [
    "## Gaia errors\n",
    "\n",
    "Above we have selected stars detectable in Gaia or subsamples of it. It might also be important to know what kind of astrometric and radial velocity errors these stars would have. \n",
    "\n",
    "Similar to the Gaia selection itself, estimation of the errors is done in two ways, one fast and simple and one slow but less accurate. \n",
    "\n",
    "### The simple case\n",
    "\n",
    "In the first and default method, astrometric errors are estimated using the Python package pygaia based on each star's G-band magnitude. Note that these estimates don't depend on sky position, so they will be less reliable in observationally tricky regions of the sky (especially the Galactic Centre.) Similarly, radial velocity errors are estimated based on each star's G_RVS magnitude and temperature and surface gravity. Errors can be estimated as follows:"
   ]
  },
  {
   "cell_type": "code",
   "execution_count": 13,
   "id": "36faf95b",
   "metadata": {},
   "outputs": [],
   "source": [
    "#Load a sample with photometry\n",
    "mysample = starsample('./cat_photometry_forGaiastuff.fits')\n",
    "\n",
    "#Get the Gaia DR3 errors\n",
    "#A data release must be specified. \n",
    "#Options are 'DR2', 'EDR3', 'DR3', 'DR4', 'DR5'.\n",
    "mysample.get_Gaia_errors(release='DR3')\n",
    "\n",
    "#The chosen data release will also be recorded as a metavariable:\n",
    "\n",
    "#Save the sample with errors\n",
    "mysample.save('./cat_photometry_DR3errors.fits')\n",
    "\n",
    "#The errors are stored in the following attributes by default:\n",
    "#mysample.e_par, mysample.e_pmra, mysample.e_pmdec, mysample.e_vlos\n",
    "\n",
    "#To return only selected errors, pass a list of strings to the errors argument.\n",
    "#This will not save much computational time, but will save disk space.\n",
    "mysample = starsample('./cat_photometry_forGaiastuff.fits')\n",
    "\n",
    "#Calculate only parallax errors\n",
    "mysample.get_Gaia_errors(release='DR3', errors=['e_par'])\n",
    "\n",
    "#NOTE that errors are calculated without regard to whether or not the star would actually be detectable in the chosen data release. This can be done by calling mysample.subsample() with the desired data release."
   ]
  },
  {
   "cell_type": "markdown",
   "id": "8147129e",
   "metadata": {},
   "source": [
    "### The more complicated case\n",
    "\n",
    "Astrometric errors can also be estimated using the Gaia astrometric spread function. Similar to the selection function, this astrometric spread function can be queried at a particular sky position and magnitude using the [scanninglaw](https://github.com/gaiaverse/scanninglaw) package. It returns the full astrometric covariance matrix for a source at that position and magnitude, i.e. the position/parallax/proper motion variances and the covariances among them. This is slower but more accurate than using pygaia. The differences in the error estimates will be largest for bright sources.\n",
    "\n",
    "The DR2 and (E)DR3 spread functions are available to query. If DR4 or DR5 errors are being calculated, the (E)DR3 errors are calculated and scaled down appropriately based on the mission duration.\n",
    "\n",
    "Functionality to query the astrometric spread function is built into speedystar and can be invoked using the use_ast_sf Boolean argument in starsample.get_Gaia_errors(). The get_correlations Boolean argument can also be set to True to return the correlations among the astrometric errors -- they are not returned by default to save disk space."
   ]
  },
  {
   "cell_type": "code",
   "execution_count": null,
   "id": "d1c758b0",
   "metadata": {},
   "outputs": [],
   "source": [
    "#Load a sample with photometry\n",
    "mysample = starsample('./cat_photometry_forGaiastuff.fits')\n",
    "\n",
    "#If the spread function has never been called, uncomment this line to download the DR2 and DR3 astro spread functions. Together they're about 500 MB\n",
    "\n",
    "#mysample.config_astsf('./path/where/you/want/to/save/the/selection/functions')\n",
    "mysample.get_Gaia_errors(release='DR3',use_ast_sf=True, get_correlations=True)\n",
    "\n",
    "mysample.save('./cat_photometry_DR3errors_astsf.fits')"
   ]
  }
 ],
 "metadata": {
  "kernelspec": {
   "display_name": "Python 3",
   "language": "python",
   "name": "python3"
  },
  "language_info": {
   "codemirror_mode": {
    "name": "ipython",
    "version": 3
   },
   "file_extension": ".py",
   "mimetype": "text/x-python",
   "name": "python",
   "nbconvert_exporter": "python",
   "pygments_lexer": "ipython3",
   "version": "3.10.12"
  }
 },
 "nbformat": 4,
 "nbformat_minor": 5
}
